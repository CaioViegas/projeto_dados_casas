{
 "cells": [
  {
   "cell_type": "markdown",
   "metadata": {},
   "source": [
    "#### Fazendo o Download do Kaggle e Transformando o Arquivo"
   ]
  },
  {
   "cell_type": "code",
   "execution_count": 1,
   "metadata": {},
   "outputs": [],
   "source": [
    "import kagglehub\n",
    "import pandas as pd\n",
    "import os"
   ]
  },
  {
   "cell_type": "code",
   "execution_count": 2,
   "metadata": {},
   "outputs": [],
   "source": [
    "path = kagglehub.dataset_download(\"oktayrdeki/houses-in-london\")"
   ]
  },
  {
   "cell_type": "code",
   "execution_count": 3,
   "metadata": {},
   "outputs": [],
   "source": [
    "arquivo_csv = os.path.join(path, \"london_houses.csv\")"
   ]
  },
  {
   "cell_type": "code",
   "execution_count": 4,
   "metadata": {},
   "outputs": [],
   "source": [
    "df = pd.read_csv(arquivo_csv)"
   ]
  },
  {
   "cell_type": "code",
   "execution_count": 5,
   "metadata": {},
   "outputs": [
    {
     "data": {
      "text/plain": [
       "Index(['Address', 'Neighborhood', 'Bedrooms', 'Bathrooms', 'Square Meters',\n",
       "       'Building Age', 'Garden', 'Garage', 'Floors', 'Property Type',\n",
       "       'Heating Type', 'Balcony', 'Interior Style', 'View', 'Materials',\n",
       "       'Building Status', 'Price (£)'],\n",
       "      dtype='object')"
      ]
     },
     "execution_count": 5,
     "metadata": {},
     "output_type": "execute_result"
    }
   ],
   "source": [
    "df.columns"
   ]
  },
  {
   "cell_type": "code",
   "execution_count": 7,
   "metadata": {},
   "outputs": [],
   "source": [
    "df.to_csv(\"../Data/casas_londres.csv\", index=False)"
   ]
  },
  {
   "cell_type": "code",
   "execution_count": 6,
   "metadata": {},
   "outputs": [],
   "source": [
    "traducao_colunas = {\n",
    "    'Address': 'Endereco',\n",
    "    'Neighborhood': 'Bairro',\n",
    "    'Bedrooms': 'Quartos',\n",
    "    'Bathrooms': 'Banheiros',\n",
    "    'Square Meters': 'Metros Quadrados',\n",
    "    'Building Age': 'Idade Predio',\n",
    "    'Garden': 'Jardim',\n",
    "    'Garage': 'Garagem',\n",
    "    'Floors': 'Andares',\n",
    "    'Property Type': 'Tipo Imovel',\n",
    "    'Heating Type': 'Tipo Aquecimento',\n",
    "    'Balcony': 'Varanda',\n",
    "    'Interior Style': 'Estilo Interior',\n",
    "    'View': 'Vista',\n",
    "    'Materials': 'Materiais',\n",
    "    'Building Status': 'Estado Predio',\n",
    "    'Price (£)': 'Preco (£)'\n",
    "}"
   ]
  },
  {
   "cell_type": "code",
   "execution_count": 9,
   "metadata": {},
   "outputs": [],
   "source": [
    "df = df.rename(columns=traducao_colunas)"
   ]
  },
  {
   "cell_type": "code",
   "execution_count": 11,
   "metadata": {},
   "outputs": [],
   "source": [
    "df.to_csv(\"../Data/casas_londres_traduzido.csv\", index=False)"
   ]
  }
 ],
 "metadata": {
  "kernelspec": {
   "display_name": "3.13.0",
   "language": "python",
   "name": "python3"
  },
  "language_info": {
   "codemirror_mode": {
    "name": "ipython",
    "version": 3
   },
   "file_extension": ".py",
   "mimetype": "text/x-python",
   "name": "python",
   "nbconvert_exporter": "python",
   "pygments_lexer": "ipython3",
   "version": "3.13.0"
  }
 },
 "nbformat": 4,
 "nbformat_minor": 2
}
