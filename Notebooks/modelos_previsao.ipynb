{
 "cells": [
  {
   "cell_type": "markdown",
   "metadata": {},
   "source": [
    "#### Criação e Avaliação de Modelos de Regressão"
   ]
  },
  {
   "cell_type": "code",
   "execution_count": 80,
   "metadata": {},
   "outputs": [],
   "source": [
    "import pandas as pd\n",
    "from sklearn.model_selection import train_test_split\n",
    "from sklearn.metrics import mean_squared_error, mean_absolute_error, r2_score, root_mean_squared_error\n",
    "from sklearn.linear_model import LinearRegression, Lasso\n",
    "from sklearn.tree import DecisionTreeRegressor\n",
    "from sklearn.ensemble import RandomForestRegressor, GradientBoostingRegressor, AdaBoostRegressor\n",
    "from sklearn.preprocessing import MaxAbsScaler, MinMaxScaler, RobustScaler, StandardScaler\n",
    "from xgboost import XGBRegressor\n",
    "import matplotlib.pyplot as plt\n",
    "import seaborn as sns"
   ]
  },
  {
   "cell_type": "code",
   "execution_count": 81,
   "metadata": {},
   "outputs": [],
   "source": [
    "df = pd.read_csv(\"../Data/casas_londres_codificado.csv\")"
   ]
  },
  {
   "cell_type": "markdown",
   "metadata": {},
   "source": [
    "#### Pré-Processamento"
   ]
  },
  {
   "cell_type": "code",
   "execution_count": 82,
   "metadata": {},
   "outputs": [],
   "source": [
    "X = df.drop(columns=['Preco (£)'], axis=1)\n",
    "y = df['Preco (£)']"
   ]
  },
  {
   "cell_type": "code",
   "execution_count": 83,
   "metadata": {},
   "outputs": [],
   "source": [
    "X_train, X_test, y_train, y_test = train_test_split(X, y, test_size=0.2, random_state=42)"
   ]
  },
  {
   "cell_type": "code",
   "execution_count": 84,
   "metadata": {},
   "outputs": [],
   "source": [
    "scalers = {\n",
    "    'MaxAbsScaler': MaxAbsScaler(),\n",
    "    'MinMaxScaler': MinMaxScaler(),\n",
    "    'RobustScaler': RobustScaler(),\n",
    "    'StandardScaler': StandardScaler()\n",
    "}"
   ]
  },
  {
   "cell_type": "code",
   "execution_count": 85,
   "metadata": {},
   "outputs": [],
   "source": [
    "scaled_data = {}\n",
    "\n",
    "for name, scaler in scalers.items():\n",
    "    X_train_scaled = scaler.fit_transform(X_train)\n",
    "    X_test_scaled = scaler.transform(X_test)\n",
    "    \n",
    "    scaled_data[name] = {\n",
    "        'X_train': X_train_scaled,\n",
    "        'X_test': X_test_scaled\n",
    "    }"
   ]
  },
  {
   "cell_type": "code",
   "execution_count": 86,
   "metadata": {},
   "outputs": [],
   "source": [
    "def treinar_modelo(modelo, resultados):\n",
    "    for nome, scaled in scaled_data.items():\n",
    "        X_train_scaled = scaled['X_train']\n",
    "        X_test_scaled = scaled['X_test']\n",
    "        \n",
    "        modelo.fit(X_train_scaled, y_train)\n",
    "        \n",
    "        y_pred = modelo.predict(X_test_scaled)\n",
    "        \n",
    "        mse = mean_squared_error(y_test, y_pred)\n",
    "        mae = mean_absolute_error(y_test, y_pred)\n",
    "        r2 = r2_score(y_test, y_pred)\n",
    "        rmse = root_mean_squared_error(y_test, y_pred)  \n",
    "        \n",
    "        resultados[nome] = {\n",
    "            'MSE': mse,\n",
    "            'MAE': mae,\n",
    "            'R²': r2,\n",
    "            'RMSE': rmse\n",
    "        }"
   ]
  },
  {
   "cell_type": "code",
   "execution_count": 87,
   "metadata": {},
   "outputs": [],
   "source": [
    "def apresentar_resultados(modelo):\n",
    "    dicionario_resultados = {}\n",
    "    treinar_modelo(modelo, dicionario_resultados)\n",
    "    df_modelo = pd.DataFrame(dicionario_resultados).T\n",
    "    return df_modelo"
   ]
  },
  {
   "cell_type": "markdown",
   "metadata": {},
   "source": [
    "#### Linear Regression"
   ]
  },
  {
   "cell_type": "code",
   "execution_count": 88,
   "metadata": {},
   "outputs": [],
   "source": [
    "linear_regression = LinearRegression()"
   ]
  },
  {
   "cell_type": "code",
   "execution_count": 89,
   "metadata": {},
   "outputs": [
    {
     "data": {
      "text/html": [
       "<div>\n",
       "<style scoped>\n",
       "    .dataframe tbody tr th:only-of-type {\n",
       "        vertical-align: middle;\n",
       "    }\n",
       "\n",
       "    .dataframe tbody tr th {\n",
       "        vertical-align: top;\n",
       "    }\n",
       "\n",
       "    .dataframe thead th {\n",
       "        text-align: right;\n",
       "    }\n",
       "</style>\n",
       "<table border=\"1\" class=\"dataframe\">\n",
       "  <thead>\n",
       "    <tr style=\"text-align: right;\">\n",
       "      <th></th>\n",
       "      <th>MSE</th>\n",
       "      <th>MAE</th>\n",
       "      <th>R²</th>\n",
       "      <th>RMSE</th>\n",
       "    </tr>\n",
       "  </thead>\n",
       "  <tbody>\n",
       "    <tr>\n",
       "      <th>MaxAbsScaler</th>\n",
       "      <td>4.640530e+10</td>\n",
       "      <td>158192.673683</td>\n",
       "      <td>0.942393</td>\n",
       "      <td>215418.893325</td>\n",
       "    </tr>\n",
       "    <tr>\n",
       "      <th>MinMaxScaler</th>\n",
       "      <td>4.640530e+10</td>\n",
       "      <td>158192.673683</td>\n",
       "      <td>0.942393</td>\n",
       "      <td>215418.893325</td>\n",
       "    </tr>\n",
       "    <tr>\n",
       "      <th>RobustScaler</th>\n",
       "      <td>4.640530e+10</td>\n",
       "      <td>158192.673683</td>\n",
       "      <td>0.942393</td>\n",
       "      <td>215418.893325</td>\n",
       "    </tr>\n",
       "    <tr>\n",
       "      <th>StandardScaler</th>\n",
       "      <td>4.640530e+10</td>\n",
       "      <td>158192.673683</td>\n",
       "      <td>0.942393</td>\n",
       "      <td>215418.893325</td>\n",
       "    </tr>\n",
       "  </tbody>\n",
       "</table>\n",
       "</div>"
      ],
      "text/plain": [
       "                         MSE            MAE        R²           RMSE\n",
       "MaxAbsScaler    4.640530e+10  158192.673683  0.942393  215418.893325\n",
       "MinMaxScaler    4.640530e+10  158192.673683  0.942393  215418.893325\n",
       "RobustScaler    4.640530e+10  158192.673683  0.942393  215418.893325\n",
       "StandardScaler  4.640530e+10  158192.673683  0.942393  215418.893325"
      ]
     },
     "execution_count": 89,
     "metadata": {},
     "output_type": "execute_result"
    }
   ],
   "source": [
    "apresentar_resultados(linear_regression)"
   ]
  },
  {
   "cell_type": "markdown",
   "metadata": {},
   "source": [
    "#### Lasso"
   ]
  },
  {
   "cell_type": "code",
   "execution_count": 90,
   "metadata": {},
   "outputs": [],
   "source": [
    "lasso_model = Lasso(random_state=101)"
   ]
  },
  {
   "cell_type": "code",
   "execution_count": 91,
   "metadata": {},
   "outputs": [
    {
     "data": {
      "text/html": [
       "<div>\n",
       "<style scoped>\n",
       "    .dataframe tbody tr th:only-of-type {\n",
       "        vertical-align: middle;\n",
       "    }\n",
       "\n",
       "    .dataframe tbody tr th {\n",
       "        vertical-align: top;\n",
       "    }\n",
       "\n",
       "    .dataframe thead th {\n",
       "        text-align: right;\n",
       "    }\n",
       "</style>\n",
       "<table border=\"1\" class=\"dataframe\">\n",
       "  <thead>\n",
       "    <tr style=\"text-align: right;\">\n",
       "      <th></th>\n",
       "      <th>MSE</th>\n",
       "      <th>MAE</th>\n",
       "      <th>R²</th>\n",
       "      <th>RMSE</th>\n",
       "    </tr>\n",
       "  </thead>\n",
       "  <tbody>\n",
       "    <tr>\n",
       "      <th>MaxAbsScaler</th>\n",
       "      <td>4.640355e+10</td>\n",
       "      <td>158189.687167</td>\n",
       "      <td>0.942395</td>\n",
       "      <td>215414.832970</td>\n",
       "    </tr>\n",
       "    <tr>\n",
       "      <th>MinMaxScaler</th>\n",
       "      <td>4.640476e+10</td>\n",
       "      <td>158191.556506</td>\n",
       "      <td>0.942394</td>\n",
       "      <td>215417.643287</td>\n",
       "    </tr>\n",
       "    <tr>\n",
       "      <th>RobustScaler</th>\n",
       "      <td>4.640487e+10</td>\n",
       "      <td>158191.955782</td>\n",
       "      <td>0.942394</td>\n",
       "      <td>215417.890034</td>\n",
       "    </tr>\n",
       "    <tr>\n",
       "      <th>StandardScaler</th>\n",
       "      <td>4.640509e+10</td>\n",
       "      <td>158192.301875</td>\n",
       "      <td>0.942393</td>\n",
       "      <td>215418.407929</td>\n",
       "    </tr>\n",
       "  </tbody>\n",
       "</table>\n",
       "</div>"
      ],
      "text/plain": [
       "                         MSE            MAE        R²           RMSE\n",
       "MaxAbsScaler    4.640355e+10  158189.687167  0.942395  215414.832970\n",
       "MinMaxScaler    4.640476e+10  158191.556506  0.942394  215417.643287\n",
       "RobustScaler    4.640487e+10  158191.955782  0.942394  215417.890034\n",
       "StandardScaler  4.640509e+10  158192.301875  0.942393  215418.407929"
      ]
     },
     "execution_count": 91,
     "metadata": {},
     "output_type": "execute_result"
    }
   ],
   "source": [
    "apresentar_resultados(lasso_model)"
   ]
  },
  {
   "cell_type": "markdown",
   "metadata": {},
   "source": [
    "#### DecisionTree"
   ]
  },
  {
   "cell_type": "code",
   "execution_count": 92,
   "metadata": {},
   "outputs": [],
   "source": [
    "decision_model = DecisionTreeRegressor(random_state=101)"
   ]
  },
  {
   "cell_type": "code",
   "execution_count": 93,
   "metadata": {},
   "outputs": [
    {
     "data": {
      "text/html": [
       "<div>\n",
       "<style scoped>\n",
       "    .dataframe tbody tr th:only-of-type {\n",
       "        vertical-align: middle;\n",
       "    }\n",
       "\n",
       "    .dataframe tbody tr th {\n",
       "        vertical-align: top;\n",
       "    }\n",
       "\n",
       "    .dataframe thead th {\n",
       "        text-align: right;\n",
       "    }\n",
       "</style>\n",
       "<table border=\"1\" class=\"dataframe\">\n",
       "  <thead>\n",
       "    <tr style=\"text-align: right;\">\n",
       "      <th></th>\n",
       "      <th>MSE</th>\n",
       "      <th>MAE</th>\n",
       "      <th>R²</th>\n",
       "      <th>RMSE</th>\n",
       "    </tr>\n",
       "  </thead>\n",
       "  <tbody>\n",
       "    <tr>\n",
       "      <th>MaxAbsScaler</th>\n",
       "      <td>2.835212e+10</td>\n",
       "      <td>127469.295</td>\n",
       "      <td>0.964804</td>\n",
       "      <td>168380.866784</td>\n",
       "    </tr>\n",
       "    <tr>\n",
       "      <th>MinMaxScaler</th>\n",
       "      <td>2.836436e+10</td>\n",
       "      <td>127496.640</td>\n",
       "      <td>0.964789</td>\n",
       "      <td>168417.229004</td>\n",
       "    </tr>\n",
       "    <tr>\n",
       "      <th>RobustScaler</th>\n",
       "      <td>2.776746e+10</td>\n",
       "      <td>126226.640</td>\n",
       "      <td>0.965530</td>\n",
       "      <td>166635.719537</td>\n",
       "    </tr>\n",
       "    <tr>\n",
       "      <th>StandardScaler</th>\n",
       "      <td>2.801152e+10</td>\n",
       "      <td>127539.965</td>\n",
       "      <td>0.965227</td>\n",
       "      <td>167366.431597</td>\n",
       "    </tr>\n",
       "  </tbody>\n",
       "</table>\n",
       "</div>"
      ],
      "text/plain": [
       "                         MSE         MAE        R²           RMSE\n",
       "MaxAbsScaler    2.835212e+10  127469.295  0.964804  168380.866784\n",
       "MinMaxScaler    2.836436e+10  127496.640  0.964789  168417.229004\n",
       "RobustScaler    2.776746e+10  126226.640  0.965530  166635.719537\n",
       "StandardScaler  2.801152e+10  127539.965  0.965227  167366.431597"
      ]
     },
     "execution_count": 93,
     "metadata": {},
     "output_type": "execute_result"
    }
   ],
   "source": [
    "apresentar_resultados(decision_model)"
   ]
  },
  {
   "cell_type": "markdown",
   "metadata": {},
   "source": [
    "#### RandomForest"
   ]
  },
  {
   "cell_type": "code",
   "execution_count": 94,
   "metadata": {},
   "outputs": [],
   "source": [
    "randomforest_model = RandomForestRegressor(random_state=101)"
   ]
  },
  {
   "cell_type": "code",
   "execution_count": 95,
   "metadata": {},
   "outputs": [
    {
     "data": {
      "text/html": [
       "<div>\n",
       "<style scoped>\n",
       "    .dataframe tbody tr th:only-of-type {\n",
       "        vertical-align: middle;\n",
       "    }\n",
       "\n",
       "    .dataframe tbody tr th {\n",
       "        vertical-align: top;\n",
       "    }\n",
       "\n",
       "    .dataframe thead th {\n",
       "        text-align: right;\n",
       "    }\n",
       "</style>\n",
       "<table border=\"1\" class=\"dataframe\">\n",
       "  <thead>\n",
       "    <tr style=\"text-align: right;\">\n",
       "      <th></th>\n",
       "      <th>MSE</th>\n",
       "      <th>MAE</th>\n",
       "      <th>R²</th>\n",
       "      <th>RMSE</th>\n",
       "    </tr>\n",
       "  </thead>\n",
       "  <tbody>\n",
       "    <tr>\n",
       "      <th>MaxAbsScaler</th>\n",
       "      <td>1.130095e+10</td>\n",
       "      <td>77373.45730</td>\n",
       "      <td>0.985971</td>\n",
       "      <td>106305.934702</td>\n",
       "    </tr>\n",
       "    <tr>\n",
       "      <th>MinMaxScaler</th>\n",
       "      <td>1.152890e+10</td>\n",
       "      <td>78531.69500</td>\n",
       "      <td>0.985688</td>\n",
       "      <td>107372.711775</td>\n",
       "    </tr>\n",
       "    <tr>\n",
       "      <th>RobustScaler</th>\n",
       "      <td>1.130104e+10</td>\n",
       "      <td>77193.83465</td>\n",
       "      <td>0.985971</td>\n",
       "      <td>106306.341704</td>\n",
       "    </tr>\n",
       "    <tr>\n",
       "      <th>StandardScaler</th>\n",
       "      <td>1.137511e+10</td>\n",
       "      <td>77648.95445</td>\n",
       "      <td>0.985879</td>\n",
       "      <td>106654.166486</td>\n",
       "    </tr>\n",
       "  </tbody>\n",
       "</table>\n",
       "</div>"
      ],
      "text/plain": [
       "                         MSE          MAE        R²           RMSE\n",
       "MaxAbsScaler    1.130095e+10  77373.45730  0.985971  106305.934702\n",
       "MinMaxScaler    1.152890e+10  78531.69500  0.985688  107372.711775\n",
       "RobustScaler    1.130104e+10  77193.83465  0.985971  106306.341704\n",
       "StandardScaler  1.137511e+10  77648.95445  0.985879  106654.166486"
      ]
     },
     "execution_count": 95,
     "metadata": {},
     "output_type": "execute_result"
    }
   ],
   "source": [
    "apresentar_resultados(randomforest_model)"
   ]
  },
  {
   "cell_type": "markdown",
   "metadata": {},
   "source": [
    "#### GradientBoosting"
   ]
  },
  {
   "cell_type": "code",
   "execution_count": 96,
   "metadata": {},
   "outputs": [],
   "source": [
    "gradient_model = GradientBoostingRegressor(random_state=101)"
   ]
  },
  {
   "cell_type": "code",
   "execution_count": 97,
   "metadata": {},
   "outputs": [
    {
     "data": {
      "text/html": [
       "<div>\n",
       "<style scoped>\n",
       "    .dataframe tbody tr th:only-of-type {\n",
       "        vertical-align: middle;\n",
       "    }\n",
       "\n",
       "    .dataframe tbody tr th {\n",
       "        vertical-align: top;\n",
       "    }\n",
       "\n",
       "    .dataframe thead th {\n",
       "        text-align: right;\n",
       "    }\n",
       "</style>\n",
       "<table border=\"1\" class=\"dataframe\">\n",
       "  <thead>\n",
       "    <tr style=\"text-align: right;\">\n",
       "      <th></th>\n",
       "      <th>MSE</th>\n",
       "      <th>MAE</th>\n",
       "      <th>R²</th>\n",
       "      <th>RMSE</th>\n",
       "    </tr>\n",
       "  </thead>\n",
       "  <tbody>\n",
       "    <tr>\n",
       "      <th>MaxAbsScaler</th>\n",
       "      <td>4.226171e+09</td>\n",
       "      <td>44512.263615</td>\n",
       "      <td>0.994754</td>\n",
       "      <td>65009.006963</td>\n",
       "    </tr>\n",
       "    <tr>\n",
       "      <th>MinMaxScaler</th>\n",
       "      <td>4.233405e+09</td>\n",
       "      <td>44606.967938</td>\n",
       "      <td>0.994745</td>\n",
       "      <td>65064.622101</td>\n",
       "    </tr>\n",
       "    <tr>\n",
       "      <th>RobustScaler</th>\n",
       "      <td>4.226382e+09</td>\n",
       "      <td>44534.706511</td>\n",
       "      <td>0.994753</td>\n",
       "      <td>65010.627074</td>\n",
       "    </tr>\n",
       "    <tr>\n",
       "      <th>StandardScaler</th>\n",
       "      <td>4.227127e+09</td>\n",
       "      <td>44564.003671</td>\n",
       "      <td>0.994753</td>\n",
       "      <td>65016.355917</td>\n",
       "    </tr>\n",
       "  </tbody>\n",
       "</table>\n",
       "</div>"
      ],
      "text/plain": [
       "                         MSE           MAE        R²          RMSE\n",
       "MaxAbsScaler    4.226171e+09  44512.263615  0.994754  65009.006963\n",
       "MinMaxScaler    4.233405e+09  44606.967938  0.994745  65064.622101\n",
       "RobustScaler    4.226382e+09  44534.706511  0.994753  65010.627074\n",
       "StandardScaler  4.227127e+09  44564.003671  0.994753  65016.355917"
      ]
     },
     "execution_count": 97,
     "metadata": {},
     "output_type": "execute_result"
    }
   ],
   "source": [
    "apresentar_resultados(gradient_model)"
   ]
  },
  {
   "cell_type": "markdown",
   "metadata": {},
   "source": [
    "#### AdaBoost"
   ]
  },
  {
   "cell_type": "code",
   "execution_count": 98,
   "metadata": {},
   "outputs": [],
   "source": [
    "ada_model = AdaBoostRegressor(random_state=101)"
   ]
  },
  {
   "cell_type": "code",
   "execution_count": 99,
   "metadata": {},
   "outputs": [
    {
     "data": {
      "text/html": [
       "<div>\n",
       "<style scoped>\n",
       "    .dataframe tbody tr th:only-of-type {\n",
       "        vertical-align: middle;\n",
       "    }\n",
       "\n",
       "    .dataframe tbody tr th {\n",
       "        vertical-align: top;\n",
       "    }\n",
       "\n",
       "    .dataframe thead th {\n",
       "        text-align: right;\n",
       "    }\n",
       "</style>\n",
       "<table border=\"1\" class=\"dataframe\">\n",
       "  <thead>\n",
       "    <tr style=\"text-align: right;\">\n",
       "      <th></th>\n",
       "      <th>MSE</th>\n",
       "      <th>MAE</th>\n",
       "      <th>R²</th>\n",
       "      <th>RMSE</th>\n",
       "    </tr>\n",
       "  </thead>\n",
       "  <tbody>\n",
       "    <tr>\n",
       "      <th>MaxAbsScaler</th>\n",
       "      <td>7.247556e+10</td>\n",
       "      <td>219003.370861</td>\n",
       "      <td>0.910030</td>\n",
       "      <td>269212.858867</td>\n",
       "    </tr>\n",
       "    <tr>\n",
       "      <th>MinMaxScaler</th>\n",
       "      <td>7.614606e+10</td>\n",
       "      <td>227710.665275</td>\n",
       "      <td>0.905473</td>\n",
       "      <td>275945.753531</td>\n",
       "    </tr>\n",
       "    <tr>\n",
       "      <th>RobustScaler</th>\n",
       "      <td>7.710919e+10</td>\n",
       "      <td>224017.785866</td>\n",
       "      <td>0.904278</td>\n",
       "      <td>277685.424057</td>\n",
       "    </tr>\n",
       "    <tr>\n",
       "      <th>StandardScaler</th>\n",
       "      <td>6.914637e+10</td>\n",
       "      <td>212955.114206</td>\n",
       "      <td>0.914163</td>\n",
       "      <td>262956.981521</td>\n",
       "    </tr>\n",
       "  </tbody>\n",
       "</table>\n",
       "</div>"
      ],
      "text/plain": [
       "                         MSE            MAE        R²           RMSE\n",
       "MaxAbsScaler    7.247556e+10  219003.370861  0.910030  269212.858867\n",
       "MinMaxScaler    7.614606e+10  227710.665275  0.905473  275945.753531\n",
       "RobustScaler    7.710919e+10  224017.785866  0.904278  277685.424057\n",
       "StandardScaler  6.914637e+10  212955.114206  0.914163  262956.981521"
      ]
     },
     "execution_count": 99,
     "metadata": {},
     "output_type": "execute_result"
    }
   ],
   "source": [
    "apresentar_resultados(ada_model)"
   ]
  },
  {
   "cell_type": "markdown",
   "metadata": {},
   "source": [
    "#### XGB"
   ]
  },
  {
   "cell_type": "code",
   "execution_count": 100,
   "metadata": {},
   "outputs": [],
   "source": [
    "xgb_model = XGBRegressor()"
   ]
  },
  {
   "cell_type": "code",
   "execution_count": 101,
   "metadata": {},
   "outputs": [
    {
     "data": {
      "text/html": [
       "<div>\n",
       "<style scoped>\n",
       "    .dataframe tbody tr th:only-of-type {\n",
       "        vertical-align: middle;\n",
       "    }\n",
       "\n",
       "    .dataframe tbody tr th {\n",
       "        vertical-align: top;\n",
       "    }\n",
       "\n",
       "    .dataframe thead th {\n",
       "        text-align: right;\n",
       "    }\n",
       "</style>\n",
       "<table border=\"1\" class=\"dataframe\">\n",
       "  <thead>\n",
       "    <tr style=\"text-align: right;\">\n",
       "      <th></th>\n",
       "      <th>MSE</th>\n",
       "      <th>MAE</th>\n",
       "      <th>R²</th>\n",
       "      <th>RMSE</th>\n",
       "    </tr>\n",
       "  </thead>\n",
       "  <tbody>\n",
       "    <tr>\n",
       "      <th>MaxAbsScaler</th>\n",
       "      <td>6.937417e+09</td>\n",
       "      <td>56017.1975</td>\n",
       "      <td>0.991388</td>\n",
       "      <td>83291.157394</td>\n",
       "    </tr>\n",
       "    <tr>\n",
       "      <th>MinMaxScaler</th>\n",
       "      <td>6.937417e+09</td>\n",
       "      <td>56017.1975</td>\n",
       "      <td>0.991388</td>\n",
       "      <td>83291.157394</td>\n",
       "    </tr>\n",
       "    <tr>\n",
       "      <th>RobustScaler</th>\n",
       "      <td>6.937417e+09</td>\n",
       "      <td>56017.1975</td>\n",
       "      <td>0.991388</td>\n",
       "      <td>83291.157394</td>\n",
       "    </tr>\n",
       "    <tr>\n",
       "      <th>StandardScaler</th>\n",
       "      <td>6.937417e+09</td>\n",
       "      <td>56017.1975</td>\n",
       "      <td>0.991388</td>\n",
       "      <td>83291.157394</td>\n",
       "    </tr>\n",
       "  </tbody>\n",
       "</table>\n",
       "</div>"
      ],
      "text/plain": [
       "                         MSE         MAE        R²          RMSE\n",
       "MaxAbsScaler    6.937417e+09  56017.1975  0.991388  83291.157394\n",
       "MinMaxScaler    6.937417e+09  56017.1975  0.991388  83291.157394\n",
       "RobustScaler    6.937417e+09  56017.1975  0.991388  83291.157394\n",
       "StandardScaler  6.937417e+09  56017.1975  0.991388  83291.157394"
      ]
     },
     "execution_count": 101,
     "metadata": {},
     "output_type": "execute_result"
    }
   ],
   "source": [
    "apresentar_resultados(xgb_model)"
   ]
  },
  {
   "cell_type": "markdown",
   "metadata": {},
   "source": [
    "#### Comparação de Resultados"
   ]
  },
  {
   "cell_type": "code",
   "execution_count": 102,
   "metadata": {},
   "outputs": [],
   "source": [
    "comparacao_r2 = {}"
   ]
  },
  {
   "cell_type": "code",
   "execution_count": 103,
   "metadata": {},
   "outputs": [],
   "source": [
    "modelos = {\n",
    "    \"LinearRegression\": LinearRegression(),\n",
    "    \"Lasso\": Lasso(random_state=101),\n",
    "    \"DecisionTreeRegressor\": DecisionTreeRegressor(random_state=101),\n",
    "    \"RandomForest\": RandomForestRegressor(random_state=101),\n",
    "    \"GradientBoosting\": GradientBoostingRegressor(random_state=101),\n",
    "    \"AdaBoostRegressor\": AdaBoostRegressor(random_state=101),\n",
    "    \"XGBRegressor\": XGBRegressor()\n",
    "}"
   ]
  },
  {
   "cell_type": "code",
   "execution_count": 104,
   "metadata": {},
   "outputs": [],
   "source": [
    "for nome_modelo, modelo in modelos.items():\n",
    "    df_resultados = apresentar_resultados(modelo)\n",
    "    comparacao_r2[nome_modelo] = df_resultados['R²'].mean()"
   ]
  },
  {
   "cell_type": "code",
   "execution_count": 105,
   "metadata": {},
   "outputs": [
    {
     "data": {
      "image/png": "[encoded data removed]",
      "text/plain": [
       "<Figure size 1600x800 with 1 Axes>"
      ]
     },
     "metadata": {},
     "output_type": "display_data"
    }
   ],
   "source": [
    "r2_df = pd.DataFrame(list(comparacao_r2.items()), columns=['Modelo', 'R²'])\n",
    "r2_df.set_index('Modelo', inplace=True)\n",
    "\n",
    "cores_personalizadas = sns.color_palette(\"viridis\", len(r2_df))\n",
    "\n",
    "r2_df.plot(\n",
    "    kind='bar', \n",
    "    color=cores_personalizadas, \n",
    "    figsize=(16, 8), \n",
    "    legend=False\n",
    ")\n",
    "plt.title('Comparação do R² entre Modelos', fontsize=14)\n",
    "plt.ylabel('R² Médio', fontsize=12)\n",
    "plt.xlabel('Modelos', fontsize=12)\n",
    "plt.ylim(0, 1)  \n",
    "plt.xticks(rotation=0, fontsize=10)\n",
    "plt.grid(axis='y', linestyle='--', alpha=0.7)\n",
    "\n",
    "plt.show()"
   ]
  }
 ],
 "metadata": {
  "kernelspec": {
   "display_name": "Python 3",
   "language": "python",
   "name": "python3"
  },
  "language_info": {
   "codemirror_mode": {
    "name": "ipython",
    "version": 3
   },
   "file_extension": ".py",
   "mimetype": "text/x-python",
   "name": "python",
   "nbconvert_exporter": "python",
   "pygments_lexer": "ipython3",
   "version": "3.13.1"
  }
 },
 "nbformat": 4,
 "nbformat_minor": 2
}
